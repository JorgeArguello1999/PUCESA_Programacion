{
 "cells": [
  {
   "cell_type": "code",
   "execution_count": 2,
   "id": "11fec516",
   "metadata": {},
   "outputs": [
    {
     "name": "stdout",
     "output_type": "stream",
     "text": [
      "============================================================\n",
      "📋 GENERACIÓN DE NOTAS ALEATORIAS\n",
      "============================================================\n",
      "📋 Notas originales (15 estudiantes):\n",
      "   [7, 12, 13, 16, 17, 10, 4, 19, 1, 14, 15, 5, 11, 18, 3]\n",
      "📊 Promedio inicial: 11.00\n"
     ]
    }
   ],
   "source": [
    "import random\n",
    "import bisect\n",
    "import matplotlib.pyplot as plt\n",
    "import time\n",
    "from IPython.display import clear_output\n",
    "import numpy as np\n",
    "\n",
    "def generar_notas_aleatorias(cantidad=15, rango_min=0, rango_max=20):\n",
    "    \"\"\"Genera una lista de notas aleatorias sin repetidos\"\"\"\n",
    "    notas = random.sample(range(rango_min, rango_max + 1), cantidad)\n",
    "    return notas\n",
    "\n",
    "# Generar las notas iniciales\n",
    "print(\"=\" * 60)\n",
    "print(\"📋 GENERACIÓN DE NOTAS ALEATORIAS\")\n",
    "print(\"=\" * 60)\n",
    "\n",
    "notas_originales = generar_notas_aleatorias()\n",
    "print(f\"📋 Notas originales ({len(notas_originales)} estudiantes):\")\n",
    "print(f\"   {notas_originales}\")\n",
    "print(f\"📊 Promedio inicial: {sum(notas_originales)/len(notas_originales):.2f}\")\n",
    "\n"
   ]
  },
  {
   "cell_type": "code",
   "execution_count": null,
   "id": "5b807f6d",
   "metadata": {},
   "outputs": [],
   "source": [
    "def bubble_sort_visualizado(lista, delay=0.5):\n",
    "    \"\"\"\n",
    "    Implementa Bubble Sort con visualización en tiempo real\n",
    "    Complejidad: O(n²) - Menos eficiente pero educativo para ver el proceso\n",
    "    \"\"\"\n",
    "    arr = lista.copy()  # No modificar la lista original\n",
    "    n = len(arr)\n",
    "    comparaciones = 0\n",
    "    intercambios = 0\n",
    "    \n",
    "    print(\"\\n\" + \"=\" * 60)\n",
    "    print(\"🔄 ORDENAMIENTO CON BUBBLE SORT (VISUALIZADO)\")\n",
    "    print(\"=\" * 60)\n",
    "    \n",
    "    # Configurar la visualización\n",
    "    plt.ion()  # Modo interactivo\n",
    "    fig, (ax1, ax2) = plt.subplots(2, 1, figsize=(12, 8))\n",
    "    \n",
    "    for i in range(n):\n",
    "        for j in range(0, n - i - 1):\n",
    "            comparaciones += 1\n",
    "            \n",
    "            # Visualización actual\n",
    "            ax1.clear()\n",
    "            ax2.clear()\n",
    "            \n",
    "            # Gráfico de barras principal\n",
    "            colores = ['lightblue'] * len(arr)\n",
    "            colores[j] = 'red'      # Elemento actual\n",
    "            colores[j + 1] = 'orange'  # Elemento comparado\n",
    "            \n",
    "            bars = ax1.bar(range(len(arr)), arr, color=colores)\n",
    "            ax1.set_title(f'Bubble Sort - Pasada {i+1}, Comparando posiciones {j} y {j+1}')\n",
    "            ax1.set_xlabel('Posición')\n",
    "            ax1.set_ylabel('Calificación')\n",
    "            ax1.set_ylim(0, 22)\n",
    "            \n",
    "            # Añadir valores en las barras\n",
    "            for idx, (bar, val) in enumerate(zip(bars, arr)):\n",
    "                ax1.text(bar.get_x() + bar.get_width()/2, bar.get_height() + 0.3, \n",
    "                        str(val), ha='center', va='bottom')\n",
    "            \n",
    "            # Gráfico de estadísticas\n",
    "            ax2.bar(['Comparaciones', 'Intercambios'], [comparaciones, intercambios], \n",
    "                   color=['skyblue', 'lightcoral'])\n",
    "            ax2.set_title('Estadísticas del Algoritmo')\n",
    "            ax2.set_ylabel('Cantidad')\n",
    "            \n",
    "            # Añadir valores en las barras de estadísticas\n",
    "            for idx, val in enumerate([comparaciones, intercambios]):\n",
    "                ax2.text(idx, val + 0.5, str(val), ha='center', va='bottom')\n",
    "            \n",
    "            plt.tight_layout()\n",
    "            plt.pause(delay)\n",
    "            \n",
    "            # Realizar intercambio si es necesario\n",
    "            if arr[j] > arr[j + 1]:\n",
    "                arr[j], arr[j + 1] = arr[j + 1], arr[j]\n",
    "                intercambios += 1\n",
    "                \n",
    "                # Mostrar el intercambio\n",
    "                ax1.clear()\n",
    "                colores = ['lightblue'] * len(arr)\n",
    "                colores[j] = 'green'      # Intercambiado\n",
    "                colores[j + 1] = 'green'  # Intercambiado\n",
    "                \n",
    "                bars = ax1.bar(range(len(arr)), arr, color=colores)\n",
    "                ax1.set_title(f'¡Intercambio realizado! Posiciones {j} y {j+1}')\n",
    "                ax1.set_xlabel('Posición')\n",
    "                ax1.set_ylabel('Calificación')\n",
    "                ax1.set_ylim(0, 22)\n",
    "                \n",
    "                for idx, (bar, val) in enumerate(zip(bars, arr)):\n",
    "                    ax1.text(bar.get_x() + bar.get_width()/2, bar.get_height() + 0.3, \n",
    "                            str(val), ha='center', va='bottom')\n",
    "                \n",
    "                plt.pause(delay)\n",
    "    \n",
    "    # Mostrar resultado final\n",
    "    ax1.clear()\n",
    "    ax2.clear()\n",
    "    \n",
    "    bars = ax1.bar(range(len(arr)), arr, color='lightgreen')\n",
    "    ax1.set_title('🎉 Bubble Sort Completado - Lista Ordenada')\n",
    "    ax1.set_xlabel('Posición')\n",
    "    ax1.set_ylabel('Calificación')\n",
    "    ax1.set_ylim(0, 22)\n",
    "    \n",
    "    for idx, (bar, val) in enumerate(zip(bars, arr)):\n",
    "        ax1.text(bar.get_x() + bar.get_width()/2, bar.get_height() + 0.3, \n",
    "                str(val), ha='center', va='bottom')\n",
    "    \n",
    "    # Estadísticas finales\n",
    "    ax2.bar(['Comparaciones', 'Intercambios'], [comparaciones, intercambios], \n",
    "           color=['skyblue', 'lightcoral'])\n",
    "    ax2.set_title('Estadísticas Finales')\n",
    "    ax2.set_ylabel('Cantidad')\n",
    "    \n",
    "    for idx, val in enumerate([comparaciones, intercambios]):\n",
    "        ax2.text(idx, val + 0.5, str(val), ha='center', va='bottom')\n",
    "    \n",
    "    plt.tight_layout()\n",
    "    plt.show()\n",
    "    plt.ioff()\n",
    "    \n",
    "    print(f\"✅ Bubble Sort completado:\")\n",
    "    print(f\"   📊 Comparaciones realizadas: {comparaciones}\")\n",
    "    print(f\"   🔄 Intercambios realizados: {intercambios}\")\n",
    "    print(f\"   📋 Lista ordenada: {arr}\")\n",
    "    \n",
    "    return arr, comparaciones, intercambios\n",
    "\n",
    "# Ejecutar Bubble Sort visualizado\n",
    "notas_bubble_sort, comp_bubble, inter_bubble = bubble_sort_visualizado(notas_originales, delay=0.8)\n",
    "\n"
   ]
  },
  {
   "cell_type": "code",
   "execution_count": 4,
   "id": "452b3e78",
   "metadata": {},
   "outputs": [
    {
     "name": "stdout",
     "output_type": "stream",
     "text": [
      "\n",
      "============================================================\n",
      "⚡ ORDENAMIENTO CON SORTED() - SIMULACIÓN PASO A PASO\n",
      "============================================================\n"
     ]
    },
    {
     "data": {
      "image/png": "[encoded data removed]",
      "text/plain": [
       "<Figure size 1200x1000 with 3 Axes>"
      ]
     },
     "metadata": {},
     "output_type": "display_data"
    },
    {
     "data": {
      "text/plain": [
       "<Figure size 640x480 with 0 Axes>"
      ]
     },
     "metadata": {},
     "output_type": "display_data"
    },
    {
     "data": {
      "text/plain": [
       "<Figure size 640x480 with 0 Axes>"
      ]
     },
     "metadata": {},
     "output_type": "display_data"
    },
    {
     "data": {
      "text/plain": [
       "<Figure size 640x480 with 0 Axes>"
      ]
     },
     "metadata": {},
     "output_type": "display_data"
    },
    {
     "data": {
      "text/plain": [
       "<Figure size 640x480 with 0 Axes>"
      ]
     },
     "metadata": {},
     "output_type": "display_data"
    },
    {
     "data": {
      "text/plain": [
       "<Figure size 640x480 with 0 Axes>"
      ]
     },
     "metadata": {},
     "output_type": "display_data"
    },
    {
     "data": {
      "text/plain": [
       "<Figure size 640x480 with 0 Axes>"
      ]
     },
     "metadata": {},
     "output_type": "display_data"
    },
    {
     "data": {
      "text/plain": [
       "<Figure size 640x480 with 0 Axes>"
      ]
     },
     "metadata": {},
     "output_type": "display_data"
    },
    {
     "data": {
      "text/plain": [
       "<Figure size 640x480 with 0 Axes>"
      ]
     },
     "metadata": {},
     "output_type": "display_data"
    },
    {
     "data": {
      "text/plain": [
       "<Figure size 640x480 with 0 Axes>"
      ]
     },
     "metadata": {},
     "output_type": "display_data"
    },
    {
     "data": {
      "text/plain": [
       "<Figure size 640x480 with 0 Axes>"
      ]
     },
     "metadata": {},
     "output_type": "display_data"
    },
    {
     "data": {
      "text/plain": [
       "<Figure size 640x480 with 0 Axes>"
      ]
     },
     "metadata": {},
     "output_type": "display_data"
    },
    {
     "data": {
      "text/plain": [
       "<Figure size 640x480 with 0 Axes>"
      ]
     },
     "metadata": {},
     "output_type": "display_data"
    },
    {
     "data": {
      "text/plain": [
       "<Figure size 640x480 with 0 Axes>"
      ]
     },
     "metadata": {},
     "output_type": "display_data"
    },
    {
     "data": {
      "text/plain": [
       "<Figure size 640x480 with 0 Axes>"
      ]
     },
     "metadata": {},
     "output_type": "display_data"
    },
    {
     "data": {
      "text/plain": [
       "<Figure size 640x480 with 0 Axes>"
      ]
     },
     "metadata": {},
     "output_type": "display_data"
    },
    {
     "name": "stdout",
     "output_type": "stream",
     "text": [
      "✅ Simulación de sorted() completada:\n",
      "   📊 Pasos realizados: 15\n",
      "   📋 Lista ordenada: [1, 3, 4, 5, 7, 10, 11, 12, 13, 14, 15, 16, 17, 18, 19]\n",
      "   ⚡ Complejidad real: O(n log n) con Timsort\n"
     ]
    }
   ],
   "source": [
    "def sorted_visualizado(lista, delay=0.5):\n",
    "    \"\"\"\n",
    "    Simula visualmente cómo se construye una lista ordenada con sorted()\n",
    "    En realidad, sorted() usa Timsort (O(n log n)), pero aquí simulamos\n",
    "    el proceso de construcción paso a paso para fines educativos\n",
    "    \"\"\"\n",
    "    arr_original = lista.copy()\n",
    "    arr_ordenada = []\n",
    "    arr_restante = lista.copy()\n",
    "    \n",
    "    print(\"\\n\" + \"=\" * 60)\n",
    "    print(\"⚡ ORDENAMIENTO CON SORTED() - SIMULACIÓN PASO A PASO\")\n",
    "    print(\"=\" * 60)\n",
    "    \n",
    "    plt.ion()\n",
    "    fig, (ax1, ax2, ax3) = plt.subplots(3, 1, figsize=(12, 10))\n",
    "    \n",
    "    pasos = 0\n",
    "    \n",
    "    while arr_restante:\n",
    "        pasos += 1\n",
    "        # Encontrar el mínimo (simulando parte del proceso de ordenamiento)\n",
    "        min_val = min(arr_restante)\n",
    "        min_idx = arr_restante.index(min_val)\n",
    "        \n",
    "        # Mover el mínimo a la lista ordenada\n",
    "        arr_ordenada.append(min_val)\n",
    "        arr_restante.remove(min_val)\n",
    "        \n",
    "        # Visualización\n",
    "        ax1.clear()\n",
    "        ax2.clear()\n",
    "        ax3.clear()\n",
    "        \n",
    "        # Lista original (referencia)\n",
    "        ax1.bar(range(len(arr_original)), arr_original, color='lightgray', alpha=0.5)\n",
    "        ax1.set_title('Lista Original (Referencia)')\n",
    "        ax1.set_ylabel('Calificación')\n",
    "        ax1.set_ylim(0, 22)\n",
    "        \n",
    "        # Lista ordenada (en construcción)\n",
    "        if arr_ordenada:\n",
    "            bars2 = ax2.bar(range(len(arr_ordenada)), arr_ordenada, color='lightgreen')\n",
    "            ax2.set_title(f'Lista Ordenada (Paso {pasos}) - Elemento añadido: {min_val}')\n",
    "            ax2.set_ylabel('Calificación')\n",
    "            ax2.set_ylim(0, 22)\n",
    "            \n",
    "            # Resaltar el último elemento añadido\n",
    "            if len(bars2) > 0:\n",
    "                bars2[-1].set_color('green')\n",
    "            \n",
    "            for idx, val in enumerate(arr_ordenada):\n",
    "                ax2.text(idx, val + 0.3, str(val), ha='center', va='bottom')\n",
    "        \n",
    "        # Elementos restantes\n",
    "        if arr_restante:\n",
    "            bars3 = ax3.bar(range(len(arr_restante)), arr_restante, color='lightcoral')\n",
    "            ax3.set_title(f'Elementos Restantes ({len(arr_restante)} pendientes)')\n",
    "            ax3.set_ylabel('Calificación')\n",
    "            ax3.set_ylim(0, 22)\n",
    "            \n",
    "            for idx, val in enumerate(arr_restante):\n",
    "                ax3.text(idx, val + 0.3, str(val), ha='center', va='bottom')\n",
    "        else:\n",
    "            ax3.set_title('🎉 ¡Todos los elementos procesados!')\n",
    "            ax3.set_ylim(0, 1)\n",
    "        \n",
    "        plt.tight_layout()\n",
    "        plt.pause(delay)\n",
    "    \n",
    "    # Resultado final\n",
    "    ax1.clear()\n",
    "    ax2.clear()\n",
    "    ax3.clear()\n",
    "    \n",
    "    # Comparación final\n",
    "    x_pos = np.arange(len(arr_original))\n",
    "    width = 0.35\n",
    "    \n",
    "    ax1.bar(x_pos - width/2, arr_original, width, label='Original', color='lightcoral', alpha=0.7)\n",
    "    ax1.bar(x_pos + width/2, arr_ordenada, width, label='Ordenada', color='lightgreen', alpha=0.7)\n",
    "    ax1.set_title('Comparación: Original vs Ordenada')\n",
    "    ax1.set_ylabel('Calificación')\n",
    "    ax1.set_xlabel('Posición')\n",
    "    ax1.legend()\n",
    "    ax1.set_ylim(0, 22)\n",
    "    \n",
    "    # Estadísticas\n",
    "    ax2.bar(['Elementos Procesados', 'Pasos Realizados'], [len(arr_ordenada), pasos], \n",
    "           color=['skyblue', 'orange'])\n",
    "    ax2.set_title('Estadísticas del Proceso')\n",
    "    ax2.set_ylabel('Cantidad')\n",
    "    \n",
    "    for idx, val in enumerate([len(arr_ordenada), pasos]):\n",
    "        ax2.text(idx, val + 0.5, str(val), ha='center', va='bottom')\n",
    "    \n",
    "    # Información sobre complejidad\n",
    "    ax3.text(0.5, 0.7, 'Complejidad Real de sorted():', ha='center', va='center', \n",
    "             transform=ax3.transAxes, fontsize=14, fontweight='bold')\n",
    "    ax3.text(0.5, 0.5, 'O(n log n) - Timsort Algorithm', ha='center', va='center', \n",
    "             transform=ax3.transAxes, fontsize=12)\n",
    "    ax3.text(0.5, 0.3, '(Esta simulación es educativa)', ha='center', va='center', \n",
    "             transform=ax3.transAxes, fontsize=10, style='italic')\n",
    "    ax3.set_xlim(0, 1)\n",
    "    ax3.set_ylim(0, 1)\n",
    "    ax3.axis('off')\n",
    "    \n",
    "    plt.tight_layout()\n",
    "    plt.show()\n",
    "    plt.ioff()\n",
    "    \n",
    "    print(f\"✅ Simulación de sorted() completada:\")\n",
    "    print(f\"   📊 Pasos realizados: {pasos}\")\n",
    "    print(f\"   📋 Lista ordenada: {arr_ordenada}\")\n",
    "    print(f\"   ⚡ Complejidad real: O(n log n) con Timsort\")\n",
    "    \n",
    "    return arr_ordenada, pasos\n",
    "\n",
    "# Ejecutar simulación de sorted()\n",
    "notas_sorted, pasos_sorted = sorted_visualizado(notas_originales, delay=0.6)"
   ]
  },
  {
   "cell_type": "code",
   "execution_count": null,
   "id": "4b353141",
   "metadata": {},
   "outputs": [],
   "source": [
    "print(\"\\n\" + \"=\" * 60)\n",
    "print(\"➕ INSERCIÓN DE NUEVA CALIFICACIÓN CON BISECT\")\n",
    "print(\"=\" * 60)\n",
    "\n",
    "# Usar la lista ordenada con sorted() como base\n",
    "notas_para_bisect = notas_sorted.copy()\n",
    "nueva_nota = random.randint(0, 20)  # Generar una nueva nota aleatoria\n",
    "\n",
    "print(f\"📋 Lista ordenada actual: {notas_para_bisect}\")\n",
    "print(f\"➕ Nueva calificación a insertar: {nueva_nota}\")\n",
    "\n",
    "# Mostrar dónde se insertará\n",
    "posicion_insercion = bisect.bisect_left(notas_para_bisect, nueva_nota)\n",
    "print(f\"📍 La nueva nota se insertará en la posición: {posicion_insercion}\")\n",
    "\n",
    "# Visualizar antes y después de la inserción\n",
    "plt.figure(figsize=(12, 6))\n",
    "\n",
    "# Antes de la inserción\n",
    "plt.subplot(2, 1, 1)\n",
    "bars_antes = plt.bar(range(len(notas_para_bisect)), notas_para_bisect, color='lightblue')\n",
    "plt.axvline(x=posicion_insercion - 0.5, color='red', linestyle='--', \n",
    "           label=f'Inserción en pos. {posicion_insercion}')\n",
    "plt.title(f'Antes de Insertar - Nueva nota: {nueva_nota}')\n",
    "plt.ylabel('Calificación')\n",
    "plt.legend()\n",
    "plt.ylim(0, 22)\n",
    "\n",
    "for idx, val in enumerate(notas_para_bisect):\n",
    "    plt.text(idx, val + 0.3, str(val), ha='center', va='bottom')\n",
    "\n",
    "# Realizar la inserción\n",
    "bisect.insort(notas_para_bisect, nueva_nota)\n",
    "\n",
    "# Después de la inserción\n",
    "plt.subplot(2, 1, 2)\n",
    "colores_despues = ['lightblue'] * len(notas_para_bisect)\n",
    "colores_despues[posicion_insercion] = 'lightgreen'  # Resaltar la nueva nota\n",
    "\n",
    "bars_despues = plt.bar(range(len(notas_para_bisect)), notas_para_bisect, color=colores_despues)\n",
    "plt.title('Después de Insertar con bisect.insort()')\n",
    "plt.xlabel('Posición')\n",
    "plt.ylabel('Calificación')\n",
    "plt.ylim(0, 22)\n",
    "\n",
    "for idx, val in enumerate(notas_para_bisect):\n",
    "    color = 'green' if idx == posicion_insercion else 'black'\n",
    "    weight = 'bold' if idx == posicion_insercion else 'normal'\n",
    "    plt.text(idx, val + 0.3, str(val), ha='center', va='bottom', \n",
    "             color=color, fontweight=weight)\n",
    "\n",
    "plt.tight_layout()\n",
    "plt.show()\n",
    "\n",
    "print(f\"✅ Inserción completada:\")\n",
    "print(f\"   📋 Lista después de insertar: {notas_para_bisect}\")\n",
    "print(f\"   📊 Nueva cantidad de elementos: {len(notas_para_bisect)}\")\n",
    "\n"
   ]
  },
  {
   "cell_type": "code",
   "execution_count": null,
   "id": "25c2bba5",
   "metadata": {},
   "outputs": [],
   "source": [
    "print(\"\\n\" + \"=\" * 60)\n",
    "print(\"🔍 BÚSQUEDA DE CALIFICACIÓN CON BISECT\")\n",
    "print(\"=\" * 60)\n",
    "\n",
    "# Buscar varias notas para demostrar el funcionamiento\n",
    "notas_a_buscar = [nueva_nota, 15, 25, min(notas_para_bisect), max(notas_para_bisect)]\n",
    "\n",
    "print(f\"📋 Lista actual: {notas_para_bisect}\")\n",
    "print(f\"🔍 Notas a buscar: {notas_a_buscar}\")\n",
    "print()\n",
    "\n",
    "resultados_busqueda = []\n",
    "\n",
    "for nota_buscar in notas_a_buscar:\n",
    "    posicion = bisect.bisect_left(notas_para_bisect, nota_buscar)\n",
    "    \n",
    "    if posicion < len(notas_para_bisect) and notas_para_bisect[posicion] == nota_buscar:\n",
    "        resultado = f\"✅ La nota {nota_buscar} se encuentra en la posición {posicion}\"\n",
    "        encontrada = True\n",
    "    else:\n",
    "        resultado = f\"❌ La nota {nota_buscar} NO está en la lista\"\n",
    "        if posicion < len(notas_para_bisect):\n",
    "            resultado += f\" (se insertaría en posición {posicion})\"\n",
    "        encontrada = False\n",
    "    \n",
    "    print(resultado)\n",
    "    resultados_busqueda.append((nota_buscar, encontrada, posicion))\n",
    "\n",
    "# Visualizar las búsquedas\n",
    "plt.figure(figsize=(12, 8))\n",
    "\n",
    "# Crear gráfico de la lista con búsquedas resaltadas\n",
    "bars = plt.bar(range(len(notas_para_bisect)), notas_para_bisect, color='lightblue')\n",
    "\n",
    "# Resaltar las notas encontradas\n",
    "for nota_buscar, encontrada, posicion in resultados_busqueda:\n",
    "    if encontrada and posicion < len(notas_para_bisect):\n",
    "        bars[posicion].set_color('lightgreen')\n",
    "\n",
    "plt.title('Lista de Calificaciones con Búsquedas Resaltadas')\n",
    "plt.xlabel('Posición')\n",
    "plt.ylabel('Calificación')\n",
    "plt.ylim(0, max(notas_para_bisect) + 2)\n",
    "\n",
    "# Añadir valores en las barras\n",
    "for idx, val in enumerate(notas_para_bisect):\n",
    "    plt.text(idx, val + 0.1, str(val), ha='center', va='bottom')\n",
    "\n",
    "# Añadir leyenda\n",
    "from matplotlib.patches import Patch\n",
    "legend_elements = [Patch(facecolor='lightblue', label='Calificaciones normales'),\n",
    "                  Patch(facecolor='lightgreen', label='Calificaciones encontradas')]\n",
    "plt.legend(handles=legend_elements)\n",
    "\n",
    "plt.tight_layout()\n",
    "plt.show()"
   ]
  },
  {
   "cell_type": "code",
   "execution_count": null,
   "id": "2ad7fe2b",
   "metadata": {},
   "outputs": [],
   "source": [
    "print(\"\\n\" + \"=\" * 60)\n",
    "print(\"📊 ANÁLISIS COMPARATIVO DE MÉTODOS DE ORDENAMIENTO\")\n",
    "print(\"=\" * 60)\n",
    "\n",
    "# Crear un resumen comparativo\n",
    "comparacion_data = {\n",
    "    'Método': ['Bubble Sort', 'sorted() [Timsort]'],\n",
    "    'Complejidad': ['O(n²)', 'O(n log n)'],\n",
    "    'Comparaciones': [comp_bubble, f'~{len(notas_originales) * np.log2(len(notas_originales)):.0f}'],\n",
    "    'Intercambios': [inter_bubble, f'~{len(notas_originales):.0f}'],\n",
    "    'Visualización': ['Muy detallada', 'Proceso simulado'],\n",
    "    'Eficiencia': ['Baja', 'Alta']\n",
    "}\n",
    "\n",
    "print(\"\\n📈 TABLA COMPARATIVA:\")\n",
    "print(\"-\" * 80)\n",
    "for key in comparacion_data:\n",
    "    print(f\"{key:15} | {comparacion_data[key][0]:15} | {comparacion_data[key][1]:15}\")\n",
    "print(\"-\" * 80)\n",
    "\n",
    "# Crear visualización comparativa final\n",
    "fig, ((ax1, ax2), (ax3, ax4)) = plt.subplots(2, 2, figsize=(15, 10))\n",
    "\n",
    "# Comparación de tiempos teóricos\n",
    "n_values = [5, 10, 15, 20, 25, 30]\n",
    "bubble_times = [n**2 for n in n_values]\n",
    "sorted_times = [n * np.log2(n) for n in n_values]\n",
    "\n",
    "ax1.plot(n_values, bubble_times, 'ro-', label='Bubble Sort O(n²)', linewidth=2)\n",
    "ax1.plot(n_values, sorted_times, 'bo-', label='sorted() O(n log n)', linewidth=2)\n",
    "ax1.set_xlabel('Número de elementos (n)')\n",
    "ax1.set_ylabel('Operaciones teóricas')\n",
    "ax1.set_title('Comparación de Complejidad Algorítmica')\n",
    "ax1.legend()\n",
    "ax1.grid(True, alpha=0.3)\n",
    "\n",
    "# Estadísticas de nuestro ejemplo\n",
    "metodos = ['Bubble Sort', 'sorted()']\n",
    "operaciones = [comp_bubble, pasos_sorted]\n",
    "\n",
    "bars = ax2.bar(metodos, operaciones, color=['lightcoral', 'lightgreen'])\n",
    "ax2.set_title('Operaciones Realizadas en Nuestro Ejemplo')\n",
    "ax2.set_ylabel('Número de Operaciones')\n",
    "\n",
    "for bar, val in zip(bars, operaciones):\n",
    "    ax2.text(bar.get_x() + bar.get_width()/2, bar.get_height() + 0.5, \n",
    "             str(val), ha='center', va='bottom')\n",
    "\n",
    "# Comparación visual de listas\n",
    "x_pos = np.arange(len(notas_originales))\n",
    "width = 0.25\n",
    "\n",
    "ax3.bar(x_pos - width, notas_originales, width, label='Original', alpha=0.7)\n",
    "ax3.bar(x_pos, notas_bubble_sort, width, label='Bubble Sort', alpha=0.7)\n",
    "ax3.bar(x_pos + width, notas_sorted, width, label='sorted()', alpha=0.7)\n",
    "ax3.set_title('Comparación de Resultados')\n",
    "ax3.set_xlabel('Posición')\n",
    "ax3.set_ylabel('Calificación')\n",
    "ax3.legend()\n",
    "\n",
    "# Uso de bisect\n",
    "caracteristicas = ['Inserción\\nOrdenada', 'Búsqueda\\nEficiente', 'Mantiene\\nOrden']\n",
    "valores = [1, 1, 1]  # Todas las características son beneficiosas\n",
    "\n",
    "bars = ax4.bar(caracteristicas, valores, color=['gold', 'skyblue', 'lightgreen'])\n",
    "ax4.set_title('Ventajas de usar bisect')\n",
    "ax4.set_ylabel('Beneficio')\n",
    "ax4.set_ylim(0, 1.2)\n",
    "\n",
    "for bar in bars:\n",
    "    ax4.text(bar.get_x() + bar.get_width()/2, bar.get_height() + 0.05, \n",
    "             '✓', ha='center', va='bottom', fontsize=16, fontweight='bold')\n",
    "\n",
    "plt.tight_layout()\n",
    "plt.show()\n",
    "\n"
   ]
  },
  {
   "cell_type": "code",
   "execution_count": null,
   "id": "17760608",
   "metadata": {},
   "outputs": [],
   "source": [
    "print(\"\\n\" + \"=\" * 60)\n",
    "print(\"=\" * 60)\n",
    "\n",
    "reflexion = \"\"\"\n",
    "📝 ANÁLISIS DE LA EXPERIENCIA PRÁCTICA:\n",
    "\n",
    "🔍 EFICIENCIA ALGORÍTMICA:\n",
    "• Bubble Sort (O(n²)): Realizó {comp_bubble} comparaciones e {inter_bubble} intercambios.\n",
    "  - Ventaja: Muy visual y fácil de entender el proceso paso a paso.\n",
    "  - Desventaja: Extremadamente ineficiente para listas grandes.\n",
    "  - Uso recomendado: Solo para fines educativos o listas muy pequeñas.\n",
    "\n",
    "• sorted() con Timsort (O(n log n)): Mucho más eficiente en la práctica.\n",
    "  - Ventaja: Optimizado para casos reales, maneja datos parcialmente ordenados.\n",
    "  - Desventaja: Proceso interno menos visible para el aprendizaje.\n",
    "  - Uso recomendado: Producción y casos reales.\n",
    "\n",
    "🎯 VISUALIZACIÓN DEL PROCESO:\n",
    "• La visualización de Bubble Sort fue extremadamente útil para entender:\n",
    "  - Cómo se comparan elementos adyacentes\n",
    "  - Por qué los elementos \"burbujean\" hacia su posición final\n",
    "  - El costo real de un algoritmo ineficiente\n",
    "\n",
    "• La simulación de sorted() ayudó a comprender:\n",
    "  - Cómo se construye progresivamente una lista ordenada\n",
    "  - La diferencia conceptual entre algoritmos\n",
    "\n",
    "⚡ GESTIÓN DE LISTAS ORDENADAS CON BISECT:\n",
    "• bisect.insort(): Mantiene automáticamente el orden al insertar (O(n))\n",
    "• bisect.bisect_left(): Búsqueda binaria eficiente (O(log n))\n",
    "• Fundamental para mantener estructuras de datos ordenadas dinámicamente\n",
    "\n",
    "🏆 CONCLUSIÓN PRÁCTICA:\n",
    "Para gestión de calificaciones en un sistema real:\n",
    "1. Usar sorted() para ordenamiento inicial\n",
    "2. Usar bisect para inserciones y búsquedas posteriores\n",
    "3. Reservar visualizaciones como Bubble Sort solo para enseñanza\n",
    "\n",
    "La combinación de eficiencia algorítmica y visualización educativa\n",
    "proporciona tanto comprensión conceptual como aplicabilidad práctica.\n",
    "\"\"\".format(comp_bubble=comp_bubble, inter_bubble=inter_bubble)\n",
    "\n",
    "print(reflexion)\n",
    "\n",
    "print(\"\\n\" + \"=\" * 60)\n",
    "print(\"✅ TALLER COMPLETADO EXITOSAMENTE\")\n",
    "print(\"=\" * 60)\n",
    "print(f\"📊 Datos finales procesados:\")\n",
    "print(f\"   • Notas originales: {len(notas_originales)} elementos\")\n",
    "print(f\"   • Lista final con nueva nota: {len(notas_para_bisect)} elementos\")\n",
    "print(f\"   • Promedio final: {sum(notas_para_bisect)/len(notas_para_bisect):.2f}\")\n",
    "print(f\"   • Rango: {min(notas_para_bisect)} - {max(notas_para_bisect)}\")\n"
   ]
  }
 ],
 "metadata": {
  "kernelspec": {
   "display_name": ".venv",
   "language": "python",
   "name": "python3"
  },
  "language_info": {
   "codemirror_mode": {
    "name": "ipython",
    "version": 3
   },
   "file_extension": ".py",
   "mimetype": "text/x-python",
   "name": "python",
   "nbconvert_exporter": "python",
   "pygments_lexer": "ipython3",
   "version": "3.13.3"
  }
 },
 "nbformat": 4,
 "nbformat_minor": 5
}
