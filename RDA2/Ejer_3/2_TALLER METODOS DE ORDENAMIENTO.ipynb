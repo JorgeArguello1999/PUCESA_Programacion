{
 "cells": [
  {
   "cell_type": "markdown",
   "id": "8a4a5a17",
   "metadata": {},
   "source": [
    "# Ejercicio en Clase: “Comparador de Métodos de Ordenamiento”\n",
    "## Objetivos:\n",
    "    * Implementar algoritmos clásicos de ordenamiento en Python.\n",
    "    * Comprender el funcionamiento interno de los algoritmos (paso a paso).\n",
    "    * Analizar el número de comparaciones e intercambios realizados.\n",
    "    * Explicar en qué contextos conviene usar cada algoritmo.\n",
    "\n",
    "## Enunciado:\n",
    "Una empresa desea analizar cuál método de ordenamiento le conviene más para ordenar listas pequeñas de productos según su precio. Para ello, te ha encargado realizar un comparador práctico entre tres algoritmos clásicos de ordenamiento: Bubble Sort, Insertion Sort y Selection Sort.\n",
    "\n",
    "La tarea es desarrollar un programa en Python que:\n",
    "\n",
    "## Parte 1: Implementación\n",
    "\n",
    "1. Cree una lista con al menos 10 precios numéricos desordenados.\n",
    "2. Implemente los tres algoritmos de ordenamiento:\n",
    "    * Bubble Sort\n",
    "    * Insertion Sort\n",
    "    * Selection Sort\n",
    "3. Añada contadores que muestren:\n",
    "    * Número de comparaciones realizadas.\n",
    "    * Número de intercambios efectuados.\n",
    "\n",
    "- Imprima los resultados ordenados y los datos de rendimiento por cada algoritmo.\n",
    "\n",
    "## Parte 2: Explicación y análisis\n",
    "\n",
    "En una celda Markdown (o comentario si es script):\n",
    "\n",
    "* Explica cómo funciona cada algoritmo (brevemente, en tus propias palabras).\n",
    "* Compara sus rendimientos: ¿Cuál fue más eficiente en tu caso y por qué?\n",
    "* ¿En qué situaciones usarías cada uno en la vida real o en software?\n",
    "\n",
    "## Extra:\n",
    "\n",
    "* Permitir que el usuario ingrese sus propios precios.\n",
    "* Aplicar los algoritmos a listas en orden ascendente, descendente y aleatorio, y comparar los resultados.\n",
    "\n",
    "## Rúbrica de Evaluación (Total: 7.5 puntos)\n",
    "| Criterio                                                           | Puntos  |\n",
    "| ------------------------------------------------------------------ | ------- |\n",
    "| ✅ Implementación funcional de los 3 algoritmos                     | 2.0     |\n",
    "| ✅ Inclusión de contadores de comparaciones e intercambios          | 1.0     |\n",
    "| ✅ Explicación clara y personal de cómo funciona cada algoritmo     | 1.5     |\n",
    "| ✅ Comparación entre algoritmos con análisis crítico                | 1.0     |\n",
    "| ✅ Resultados presentados con claridad (listas ordenadas, métricas) | 1.0     |\n",
    "| ✅ Código ordenado, legible y ejecutable sin errores                | 0.5     |\n",
    "| ✅ Extras: entrada personalizada, comparación por tipo de lista     | 0.5     |\n",
    "| **Total**                                                          | **7.5** |\n"
   ]
  }
 ],
 "metadata": {
  "language_info": {
   "name": "python"
  }
 },
 "nbformat": 4,
 "nbformat_minor": 5
}
