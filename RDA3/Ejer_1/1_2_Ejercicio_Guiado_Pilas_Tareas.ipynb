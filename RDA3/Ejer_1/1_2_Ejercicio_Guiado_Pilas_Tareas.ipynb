{
 "cells": [
  {
   "cell_type": "markdown",
   "id": "76266044",
   "metadata": {},
   "source": [
    "# Ejercicio Guiado: Gestión de Tareas Pendientes con una Pila\n",
    "\n",
    "En este ejercicio se simulará un sistema muy simple de tareas pendientes usando una pila. Aplicaremos todos los métodos vistos:\n",
    "\n",
    "- Agregar tareas (`push` usando `append`)\n",
    "- Ver la tarea más reciente (`peek` usando índice -1)\n",
    "- Marcar como completada la última tarea (`pop`)\n",
    "- Verificar si hay tareas pendientes (`isEmpty` usando `len == 0`)\n",
    "\n",
    "Este tipo de estructura es útil en sistemas que requieren registrar acciones reversibles, como editores de texto o historial de navegación.\n"
   ]
  },
  {
   "cell_type": "markdown",
   "id": "97ea6c11",
   "metadata": {},
   "source": [
    "## Paso 1: Crear la pila de tareas"
   ]
  },
  {
   "cell_type": "code",
   "execution_count": 1,
   "id": "49571a41",
   "metadata": {},
   "outputs": [],
   "source": [
    "# Creamos una pila vacía para almacenar tareas pendientes\n",
    "tareas = []"
   ]
  },
  {
   "cell_type": "markdown",
   "id": "dfbe322a",
   "metadata": {},
   "source": [
    "## Paso 2: Agregar tareas (push)"
   ]
  },
  {
   "cell_type": "code",
   "execution_count": 2,
   "id": "ac95dc1f",
   "metadata": {},
   "outputs": [
    {
     "name": "stdout",
     "output_type": "stream",
     "text": [
      "Tareas pendientes: ['Estudiar pilas en Python', 'Hacer ejercicios de estructuras de datos', 'Leer documentación oficial de Python']\n"
     ]
    }
   ],
   "source": [
    "# Agregamos tres tareas a la pila\n",
    "tareas.append(\"Estudiar pilas en Python\")\n",
    "tareas.append(\"Hacer ejercicios de estructuras de datos\")\n",
    "tareas.append(\"Leer documentación oficial de Python\")\n",
    "\n",
    "# Mostramos el estado actual de la pila\n",
    "print(\"Tareas pendientes:\", tareas)"
   ]
  },
  {
   "cell_type": "markdown",
   "id": "85842135",
   "metadata": {},
   "source": [
    "## Paso 3: Ver la tarea más reciente sin eliminarla (peek)"
   ]
  },
  {
   "cell_type": "code",
   "execution_count": 3,
   "id": "eefaf348",
   "metadata": {},
   "outputs": [
    {
     "name": "stdout",
     "output_type": "stream",
     "text": [
      "Tarea más reciente: Leer documentación oficial de Python\n"
     ]
    }
   ],
   "source": [
    "# Mostramos la tarea más reciente (el tope de la pila)\n",
    "if tareas:\n",
    "    print(\"Tarea más reciente:\", tareas[-1])\n",
    "else:\n",
    "    print(\"No hay tareas pendientes.\")"
   ]
  },
  {
   "cell_type": "markdown",
   "id": "7603af54",
   "metadata": {},
   "source": [
    "## Paso 4: Marcar tarea como completada (pop)"
   ]
  },
  {
   "cell_type": "code",
   "execution_count": 4,
   "id": "1f68379f",
   "metadata": {},
   "outputs": [
    {
     "name": "stdout",
     "output_type": "stream",
     "text": [
      "Tarea completada: Leer documentación oficial de Python\n"
     ]
    }
   ],
   "source": [
    "# Quitamos la última tarea (la más reciente)\n",
    "if tareas:\n",
    "    completada = tareas.pop()\n",
    "    print(\"Tarea completada:\", completada)\n",
    "else:\n",
    "    print(\"No hay tareas para completar.\")"
   ]
  },
  {
   "cell_type": "markdown",
   "id": "e1d58d6b",
   "metadata": {},
   "source": [
    "## Paso 5: Verificar si quedan tareas pendientes (isEmpty)"
   ]
  },
  {
   "cell_type": "code",
   "execution_count": 5,
   "id": "5e3fb49c",
   "metadata": {},
   "outputs": [
    {
     "name": "stdout",
     "output_type": "stream",
     "text": [
      "Tareas restantes: ['Estudiar pilas en Python', 'Hacer ejercicios de estructuras de datos']\n"
     ]
    }
   ],
   "source": [
    "# Verificamos si aún hay tareas pendientes\n",
    "if len(tareas) == 0:\n",
    "    print(\"Todas las tareas han sido completadas.\")\n",
    "else:\n",
    "    print(\"Tareas restantes:\", tareas)"
   ]
  }
 ],
 "metadata": {
  "kernelspec": {
   "display_name": "base",
   "language": "python",
   "name": "python3"
  },
  "language_info": {
   "codemirror_mode": {
    "name": "ipython",
    "version": 3
   },
   "file_extension": ".py",
   "mimetype": "text/x-python",
   "name": "python",
   "nbconvert_exporter": "python",
   "pygments_lexer": "ipython3",
   "version": "3.11.5"
  }
 },
 "nbformat": 4,
 "nbformat_minor": 5
}
